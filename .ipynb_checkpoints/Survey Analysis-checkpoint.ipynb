{
 "cells": [
  {
   "cell_type": "code",
   "execution_count": 44,
   "metadata": {},
   "outputs": [],
   "source": [
    "%matplotlib inline\n",
    "\n",
    "import pandas as pd\n",
    "import matplotlib.pyplot as plt\n",
    "import numpy as np"
   ]
  },
  {
   "cell_type": "code",
   "execution_count": 45,
   "metadata": {},
   "outputs": [
    {
     "data": {
      "text/html": [
       "<div>\n",
       "<style scoped>\n",
       "    .dataframe tbody tr th:only-of-type {\n",
       "        vertical-align: middle;\n",
       "    }\n",
       "\n",
       "    .dataframe tbody tr th {\n",
       "        vertical-align: top;\n",
       "    }\n",
       "\n",
       "    .dataframe thead th {\n",
       "        text-align: right;\n",
       "    }\n",
       "</style>\n",
       "<table border=\"1\" class=\"dataframe\">\n",
       "  <thead>\n",
       "    <tr style=\"text-align: right;\">\n",
       "      <th></th>\n",
       "      <th>Timestamp</th>\n",
       "      <th>Age Group</th>\n",
       "      <th>Area</th>\n",
       "      <th>No .of stationery shops near by</th>\n",
       "      <th>How do you rate the stationery shops nearby?</th>\n",
       "      <th>Which brands do you prefer?</th>\n",
       "      <th>Which services do you prefer?</th>\n",
       "      <th>Which of these items are not available in your locality?</th>\n",
       "      <th>Unnamed: 8</th>\n",
       "    </tr>\n",
       "  </thead>\n",
       "  <tbody>\n",
       "    <tr>\n",
       "      <th>0</th>\n",
       "      <td>2/22/2018 12:18:47</td>\n",
       "      <td>20-60</td>\n",
       "      <td>Thane</td>\n",
       "      <td>10</td>\n",
       "      <td>4</td>\n",
       "      <td>Sundaram, Classmate, Navneet, Camlin</td>\n",
       "      <td>Home delivery, Online services</td>\n",
       "      <td>Party decorations, College ceremonies, Greetin...</td>\n",
       "      <td>NaN</td>\n",
       "    </tr>\n",
       "    <tr>\n",
       "      <th>1</th>\n",
       "      <td>2/22/2018 12:29:22</td>\n",
       "      <td>20-60</td>\n",
       "      <td>Chembur</td>\n",
       "      <td>10</td>\n",
       "      <td>4</td>\n",
       "      <td>Sundaram, Classmate, Navneet</td>\n",
       "      <td>Print</td>\n",
       "      <td>Files and Folders</td>\n",
       "      <td>NaN</td>\n",
       "    </tr>\n",
       "    <tr>\n",
       "      <th>2</th>\n",
       "      <td>2/22/2018 12:39:41</td>\n",
       "      <td>16-20</td>\n",
       "      <td>Kalyan</td>\n",
       "      <td>3</td>\n",
       "      <td>5</td>\n",
       "      <td>Sundaram, Classmate, Navneet, Camlin, Others</td>\n",
       "      <td>Color xerox, Print, Home delivery, Online serv...</td>\n",
       "      <td>NaN</td>\n",
       "      <td>NaN</td>\n",
       "    </tr>\n",
       "    <tr>\n",
       "      <th>3</th>\n",
       "      <td>2/22/2018 14:26:11</td>\n",
       "      <td>20-60</td>\n",
       "      <td>Kalyan</td>\n",
       "      <td>3</td>\n",
       "      <td>4</td>\n",
       "      <td>Sundaram, Classmate, Navneet</td>\n",
       "      <td>Print</td>\n",
       "      <td>NaN</td>\n",
       "      <td>NaN</td>\n",
       "    </tr>\n",
       "    <tr>\n",
       "      <th>4</th>\n",
       "      <td>2/22/2018 14:55:16</td>\n",
       "      <td>20-60</td>\n",
       "      <td>Kalyan</td>\n",
       "      <td>5</td>\n",
       "      <td>4</td>\n",
       "      <td>Sundaram, Classmate, Camlin</td>\n",
       "      <td>Color xerox, Print, Lamination and Binding</td>\n",
       "      <td>NaN</td>\n",
       "      <td>NaN</td>\n",
       "    </tr>\n",
       "  </tbody>\n",
       "</table>\n",
       "</div>"
      ],
      "text/plain": [
       "            Timestamp Age Group     Area  No .of stationery shops near by  \\\n",
       "0  2/22/2018 12:18:47     20-60    Thane                               10   \n",
       "1  2/22/2018 12:29:22     20-60  Chembur                               10   \n",
       "2  2/22/2018 12:39:41     16-20   Kalyan                                3   \n",
       "3  2/22/2018 14:26:11     20-60   Kalyan                                3   \n",
       "4  2/22/2018 14:55:16     20-60   Kalyan                                5   \n",
       "\n",
       "   How do you rate the stationery shops nearby?  \\\n",
       "0                                             4   \n",
       "1                                             4   \n",
       "2                                             5   \n",
       "3                                             4   \n",
       "4                                             4   \n",
       "\n",
       "                    Which brands do you prefer?  \\\n",
       "0          Sundaram, Classmate, Navneet, Camlin   \n",
       "1                  Sundaram, Classmate, Navneet   \n",
       "2  Sundaram, Classmate, Navneet, Camlin, Others   \n",
       "3                  Sundaram, Classmate, Navneet   \n",
       "4                   Sundaram, Classmate, Camlin   \n",
       "\n",
       "                       Which services do you prefer?  \\\n",
       "0                     Home delivery, Online services   \n",
       "1                                              Print   \n",
       "2  Color xerox, Print, Home delivery, Online serv...   \n",
       "3                                              Print   \n",
       "4         Color xerox, Print, Lamination and Binding   \n",
       "\n",
       "  Which of these items are not available in your locality? Unnamed: 8  \n",
       "0  Party decorations, College ceremonies, Greetin...              NaN  \n",
       "1                                  Files and Folders              NaN  \n",
       "2                                                NaN              NaN  \n",
       "3                                                NaN              NaN  \n",
       "4                                                NaN              NaN  "
      ]
     },
     "execution_count": 45,
     "metadata": {},
     "output_type": "execute_result"
    }
   ],
   "source": [
    "df_raw = pd.read_csv('survey-responses.csv', sep=',', header=0, encoding='ascii', engine='python')\n",
    "df_raw.head()"
   ]
  },
  {
   "cell_type": "code",
   "execution_count": 46,
   "metadata": {},
   "outputs": [
    {
     "data": {
      "text/html": [
       "<div>\n",
       "<style scoped>\n",
       "    .dataframe tbody tr th:only-of-type {\n",
       "        vertical-align: middle;\n",
       "    }\n",
       "\n",
       "    .dataframe tbody tr th {\n",
       "        vertical-align: top;\n",
       "    }\n",
       "\n",
       "    .dataframe thead th {\n",
       "        text-align: right;\n",
       "    }\n",
       "</style>\n",
       "<table border=\"1\" class=\"dataframe\">\n",
       "  <thead>\n",
       "    <tr style=\"text-align: right;\">\n",
       "      <th></th>\n",
       "      <th>Age Group</th>\n",
       "      <th>Area</th>\n",
       "      <th>No .of stationery shops near by</th>\n",
       "      <th>How do you rate the stationery shops nearby?</th>\n",
       "      <th>Which brands do you prefer?</th>\n",
       "      <th>Which services do you prefer?</th>\n",
       "      <th>Which of these items are not available in your locality?</th>\n",
       "    </tr>\n",
       "  </thead>\n",
       "  <tbody>\n",
       "    <tr>\n",
       "      <th>0</th>\n",
       "      <td>20-60</td>\n",
       "      <td>Thane</td>\n",
       "      <td>10</td>\n",
       "      <td>4</td>\n",
       "      <td>Sundaram, Classmate, Navneet, Camlin</td>\n",
       "      <td>Home delivery, Online services</td>\n",
       "      <td>Party decorations, College ceremonies, Greetin...</td>\n",
       "    </tr>\n",
       "    <tr>\n",
       "      <th>1</th>\n",
       "      <td>20-60</td>\n",
       "      <td>Chembur</td>\n",
       "      <td>10</td>\n",
       "      <td>4</td>\n",
       "      <td>Sundaram, Classmate, Navneet</td>\n",
       "      <td>Print</td>\n",
       "      <td>Files and Folders</td>\n",
       "    </tr>\n",
       "    <tr>\n",
       "      <th>2</th>\n",
       "      <td>16-20</td>\n",
       "      <td>Kalyan</td>\n",
       "      <td>3</td>\n",
       "      <td>5</td>\n",
       "      <td>Sundaram, Classmate, Navneet, Camlin, Others</td>\n",
       "      <td>Color xerox, Print, Home delivery, Online serv...</td>\n",
       "      <td>NaN</td>\n",
       "    </tr>\n",
       "    <tr>\n",
       "      <th>3</th>\n",
       "      <td>20-60</td>\n",
       "      <td>Kalyan</td>\n",
       "      <td>3</td>\n",
       "      <td>4</td>\n",
       "      <td>Sundaram, Classmate, Navneet</td>\n",
       "      <td>Print</td>\n",
       "      <td>NaN</td>\n",
       "    </tr>\n",
       "    <tr>\n",
       "      <th>4</th>\n",
       "      <td>20-60</td>\n",
       "      <td>Kalyan</td>\n",
       "      <td>5</td>\n",
       "      <td>4</td>\n",
       "      <td>Sundaram, Classmate, Camlin</td>\n",
       "      <td>Color xerox, Print, Lamination and Binding</td>\n",
       "      <td>NaN</td>\n",
       "    </tr>\n",
       "  </tbody>\n",
       "</table>\n",
       "</div>"
      ],
      "text/plain": [
       "  Age Group     Area  No .of stationery shops near by  \\\n",
       "0     20-60    Thane                               10   \n",
       "1     20-60  Chembur                               10   \n",
       "2     16-20   Kalyan                                3   \n",
       "3     20-60   Kalyan                                3   \n",
       "4     20-60   Kalyan                                5   \n",
       "\n",
       "   How do you rate the stationery shops nearby?  \\\n",
       "0                                             4   \n",
       "1                                             4   \n",
       "2                                             5   \n",
       "3                                             4   \n",
       "4                                             4   \n",
       "\n",
       "                    Which brands do you prefer?  \\\n",
       "0          Sundaram, Classmate, Navneet, Camlin   \n",
       "1                  Sundaram, Classmate, Navneet   \n",
       "2  Sundaram, Classmate, Navneet, Camlin, Others   \n",
       "3                  Sundaram, Classmate, Navneet   \n",
       "4                   Sundaram, Classmate, Camlin   \n",
       "\n",
       "                       Which services do you prefer?  \\\n",
       "0                     Home delivery, Online services   \n",
       "1                                              Print   \n",
       "2  Color xerox, Print, Home delivery, Online serv...   \n",
       "3                                              Print   \n",
       "4         Color xerox, Print, Lamination and Binding   \n",
       "\n",
       "  Which of these items are not available in your locality?  \n",
       "0  Party decorations, College ceremonies, Greetin...        \n",
       "1                                  Files and Folders        \n",
       "2                                                NaN        \n",
       "3                                                NaN        \n",
       "4                                                NaN        "
      ]
     },
     "execution_count": 46,
     "metadata": {},
     "output_type": "execute_result"
    }
   ],
   "source": [
    "df = df_raw.iloc[:,1:8]\n",
    "df.head()"
   ]
  },
  {
   "cell_type": "code",
   "execution_count": 47,
   "metadata": {},
   "outputs": [
    {
     "data": {
      "text/plain": [
       "<matplotlib.axes._subplots.AxesSubplot at 0x7fb264d6ce48>"
      ]
     },
     "execution_count": 47,
     "metadata": {},
     "output_type": "execute_result"
    },
    {
     "data": {
      "image/png": "[encoded data removed]",
      "text/plain": [
       "<Figure size 432x432 with 1 Axes>"
      ]
     },
     "metadata": {},
     "output_type": "display_data"
    }
   ],
   "source": [
    "df['Age Group'].value_counts().plot.pie(figsize=(6,6), autopct='%.0f')"
   ]
  },
  {
   "cell_type": "code",
   "execution_count": 48,
   "metadata": {},
   "outputs": [
    {
     "data": {
      "text/plain": [
       "<matplotlib.axes._subplots.AxesSubplot at 0x7fb264da1ef0>"
      ]
     },
     "execution_count": 48,
     "metadata": {},
     "output_type": "execute_result"
    },
    {
     "data": {
      "image/png": "[encoded data removed]",
      "text/plain": [
       "<Figure size 432x432 with 1 Axes>"
      ]
     },
     "metadata": {},
     "output_type": "display_data"
    }
   ],
   "source": [
    "df['Area'].value_counts().plot.pie(figsize=(6,6), autopct='%.0f')"
   ]
  },
  {
   "cell_type": "code",
   "execution_count": 56,
   "metadata": {},
   "outputs": [
    {
     "data": {
      "text/plain": [
       "<matplotlib.axes._subplots.AxesSubplot at 0x7fb264e3b2b0>"
      ]
     },
     "execution_count": 56,
     "metadata": {},
     "output_type": "execute_result"
    },
    {
     "data": {
      "image/png": "[encoded data removed]",
      "text/plain": [
       "<Figure size 432x432 with 1 Axes>"
      ]
     },
     "metadata": {},
     "output_type": "display_data"
    }
   ],
   "source": [
    "df['How do you rate the stationery shops nearby?'].value_counts().plot.pie(figsize=(6,6), autopct='%.0f')"
   ]
  },
  {
   "cell_type": "code",
   "execution_count": 51,
   "metadata": {},
   "outputs": [
    {
     "data": {
      "text/html": [
       "<div>\n",
       "<style scoped>\n",
       "    .dataframe tbody tr th:only-of-type {\n",
       "        vertical-align: middle;\n",
       "    }\n",
       "\n",
       "    .dataframe tbody tr th {\n",
       "        vertical-align: top;\n",
       "    }\n",
       "\n",
       "    .dataframe thead th {\n",
       "        text-align: right;\n",
       "    }\n",
       "</style>\n",
       "<table border=\"1\" class=\"dataframe\">\n",
       "  <thead>\n",
       "    <tr style=\"text-align: right;\">\n",
       "      <th></th>\n",
       "      <th>Age Group</th>\n",
       "      <th>Area</th>\n",
       "      <th>No .of stationery shops near by</th>\n",
       "      <th>How do you rate the stationery shops nearby?</th>\n",
       "      <th>Which brands do you prefer?</th>\n",
       "      <th>Which services do you prefer?</th>\n",
       "      <th>Which of these items are not available in your locality?</th>\n",
       "    </tr>\n",
       "  </thead>\n",
       "  <tbody>\n",
       "    <tr>\n",
       "      <th>0</th>\n",
       "      <td>20-60</td>\n",
       "      <td>Thane</td>\n",
       "      <td>10</td>\n",
       "      <td>4</td>\n",
       "      <td>Sundaram, Classmate, Navneet, Camlin</td>\n",
       "      <td>Home delivery, Online services</td>\n",
       "      <td>Party decorations, College ceremonies, Greetin...</td>\n",
       "    </tr>\n",
       "    <tr>\n",
       "      <th>1</th>\n",
       "      <td>20-60</td>\n",
       "      <td>Chembur</td>\n",
       "      <td>10</td>\n",
       "      <td>4</td>\n",
       "      <td>Sundaram, Classmate, Navneet</td>\n",
       "      <td>Print</td>\n",
       "      <td>Files and Folders</td>\n",
       "    </tr>\n",
       "    <tr>\n",
       "      <th>2</th>\n",
       "      <td>16-20</td>\n",
       "      <td>Kalyan</td>\n",
       "      <td>3</td>\n",
       "      <td>5</td>\n",
       "      <td>Sundaram, Classmate, Navneet, Camlin, Others</td>\n",
       "      <td>Color xerox, Print, Home delivery, Online serv...</td>\n",
       "      <td>NaN</td>\n",
       "    </tr>\n",
       "    <tr>\n",
       "      <th>3</th>\n",
       "      <td>20-60</td>\n",
       "      <td>Kalyan</td>\n",
       "      <td>3</td>\n",
       "      <td>4</td>\n",
       "      <td>Sundaram, Classmate, Navneet</td>\n",
       "      <td>Print</td>\n",
       "      <td>NaN</td>\n",
       "    </tr>\n",
       "    <tr>\n",
       "      <th>4</th>\n",
       "      <td>20-60</td>\n",
       "      <td>Kalyan</td>\n",
       "      <td>5</td>\n",
       "      <td>4</td>\n",
       "      <td>Sundaram, Classmate, Camlin</td>\n",
       "      <td>Color xerox, Print, Lamination and Binding</td>\n",
       "      <td>NaN</td>\n",
       "    </tr>\n",
       "  </tbody>\n",
       "</table>\n",
       "</div>"
      ],
      "text/plain": [
       "  Age Group     Area  No .of stationery shops near by  \\\n",
       "0     20-60    Thane                               10   \n",
       "1     20-60  Chembur                               10   \n",
       "2     16-20   Kalyan                                3   \n",
       "3     20-60   Kalyan                                3   \n",
       "4     20-60   Kalyan                                5   \n",
       "\n",
       "   How do you rate the stationery shops nearby?  \\\n",
       "0                                             4   \n",
       "1                                             4   \n",
       "2                                             5   \n",
       "3                                             4   \n",
       "4                                             4   \n",
       "\n",
       "                    Which brands do you prefer?  \\\n",
       "0          Sundaram, Classmate, Navneet, Camlin   \n",
       "1                  Sundaram, Classmate, Navneet   \n",
       "2  Sundaram, Classmate, Navneet, Camlin, Others   \n",
       "3                  Sundaram, Classmate, Navneet   \n",
       "4                   Sundaram, Classmate, Camlin   \n",
       "\n",
       "                       Which services do you prefer?  \\\n",
       "0                     Home delivery, Online services   \n",
       "1                                              Print   \n",
       "2  Color xerox, Print, Home delivery, Online serv...   \n",
       "3                                              Print   \n",
       "4         Color xerox, Print, Lamination and Binding   \n",
       "\n",
       "  Which of these items are not available in your locality?  \n",
       "0  Party decorations, College ceremonies, Greetin...        \n",
       "1                                  Files and Folders        \n",
       "2                                                NaN        \n",
       "3                                                NaN        \n",
       "4                                                NaN        "
      ]
     },
     "execution_count": 51,
     "metadata": {},
     "output_type": "execute_result"
    }
   ],
   "source": [
    "df.head()"
   ]
  },
  {
   "cell_type": "code",
   "execution_count": 55,
   "metadata": {},
   "outputs": [
    {
     "data": {
      "text/html": [
       "<div>\n",
       "<style scoped>\n",
       "    .dataframe tbody tr th:only-of-type {\n",
       "        vertical-align: middle;\n",
       "    }\n",
       "\n",
       "    .dataframe tbody tr th {\n",
       "        vertical-align: top;\n",
       "    }\n",
       "\n",
       "    .dataframe thead th {\n",
       "        text-align: right;\n",
       "    }\n",
       "</style>\n",
       "<table border=\"1\" class=\"dataframe\">\n",
       "  <thead>\n",
       "    <tr style=\"text-align: right;\">\n",
       "      <th></th>\n",
       "      <th>No .of stationery shops near by</th>\n",
       "      <th>How do you rate the stationery shops nearby?</th>\n",
       "    </tr>\n",
       "    <tr>\n",
       "      <th>Area</th>\n",
       "      <th></th>\n",
       "      <th></th>\n",
       "    </tr>\n",
       "  </thead>\n",
       "  <tbody>\n",
       "    <tr>\n",
       "      <th>Chembur</th>\n",
       "      <td>3.583333</td>\n",
       "      <td>3.875000</td>\n",
       "    </tr>\n",
       "    <tr>\n",
       "      <th>Kalyan</th>\n",
       "      <td>4.600000</td>\n",
       "      <td>3.800000</td>\n",
       "    </tr>\n",
       "    <tr>\n",
       "      <th>Navi Mumbai</th>\n",
       "      <td>3.666667</td>\n",
       "      <td>4.000000</td>\n",
       "    </tr>\n",
       "    <tr>\n",
       "      <th>Thane</th>\n",
       "      <td>4.083333</td>\n",
       "      <td>3.666667</td>\n",
       "    </tr>\n",
       "    <tr>\n",
       "      <th>Western Suburbs</th>\n",
       "      <td>3.400000</td>\n",
       "      <td>3.000000</td>\n",
       "    </tr>\n",
       "  </tbody>\n",
       "</table>\n",
       "</div>"
      ],
      "text/plain": [
       "                 No .of stationery shops near by  \\\n",
       "Area                                               \n",
       "Chembur                                 3.583333   \n",
       "Kalyan                                  4.600000   \n",
       "Navi Mumbai                             3.666667   \n",
       "Thane                                   4.083333   \n",
       "Western Suburbs                         3.400000   \n",
       "\n",
       "                 How do you rate the stationery shops nearby?  \n",
       "Area                                                           \n",
       "Chembur                                              3.875000  \n",
       "Kalyan                                               3.800000  \n",
       "Navi Mumbai                                          4.000000  \n",
       "Thane                                                3.666667  \n",
       "Western Suburbs                                      3.000000  "
      ]
     },
     "execution_count": 55,
     "metadata": {},
     "output_type": "execute_result"
    }
   ],
   "source": [
    "df.groupby('Area').agg({'No .of stationery shops near by' : np.mean, 'How do you rate the stationery shops nearby?' : np.mean})"
   ]
  },
  {
   "cell_type": "code",
   "execution_count": null,
   "metadata": {},
   "outputs": [],
   "source": []
  }
 ],
 "metadata": {
  "kernelspec": {
   "display_name": "Python 3",
   "language": "python",
   "name": "python3"
  },
  "language_info": {
   "codemirror_mode": {
    "name": "ipython",
    "version": 3
   },
   "file_extension": ".py",
   "mimetype": "text/x-python",
   "name": "python",
   "nbconvert_exporter": "python",
   "pygments_lexer": "ipython3",
   "version": "3.6.4"
  }
 },
 "nbformat": 4,
 "nbformat_minor": 2
}
