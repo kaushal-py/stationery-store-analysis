{
 "cells": [
  {
   "cell_type": "code",
   "execution_count": 1,
   "metadata": {},
   "outputs": [],
   "source": [
    "%matplotlib inline\n",
    "\n",
    "import pandas as pd\n",
    "import matplotlib.pyplot as plt\n",
    "import numpy as np\n",
    "from mlxtend.frequent_patterns import apriori"
   ]
  },
  {
   "cell_type": "code",
   "execution_count": 2,
   "metadata": {},
   "outputs": [
    {
     "data": {
      "text/html": [
       "<div>\n",
       "<style scoped>\n",
       "    .dataframe tbody tr th:only-of-type {\n",
       "        vertical-align: middle;\n",
       "    }\n",
       "\n",
       "    .dataframe tbody tr th {\n",
       "        vertical-align: top;\n",
       "    }\n",
       "\n",
       "    .dataframe thead th {\n",
       "        text-align: right;\n",
       "    }\n",
       "</style>\n",
       "<table border=\"1\" class=\"dataframe\">\n",
       "  <thead>\n",
       "    <tr style=\"text-align: right;\">\n",
       "      <th></th>\n",
       "      <th>Timestamp</th>\n",
       "      <th>Age Group</th>\n",
       "      <th>Area</th>\n",
       "      <th>No .of stationery shops near by</th>\n",
       "      <th>How do you rate the stationery shops nearby?</th>\n",
       "      <th>Which brands do you prefer?</th>\n",
       "      <th>Which services do you prefer?</th>\n",
       "      <th>Which of these items are not available in your locality?</th>\n",
       "      <th>Unnamed: 8</th>\n",
       "    </tr>\n",
       "  </thead>\n",
       "  <tbody>\n",
       "    <tr>\n",
       "      <th>0</th>\n",
       "      <td>2/22/2018 12:18:47</td>\n",
       "      <td>20-60</td>\n",
       "      <td>Thane</td>\n",
       "      <td>10</td>\n",
       "      <td>4</td>\n",
       "      <td>Sundaram, Classmate, Navneet, Camlin</td>\n",
       "      <td>Home delivery, Online services</td>\n",
       "      <td>Party decorations, College ceremonies, Greetin...</td>\n",
       "      <td>NaN</td>\n",
       "    </tr>\n",
       "    <tr>\n",
       "      <th>1</th>\n",
       "      <td>2/22/2018 12:29:22</td>\n",
       "      <td>20-60</td>\n",
       "      <td>Chembur</td>\n",
       "      <td>10</td>\n",
       "      <td>4</td>\n",
       "      <td>Sundaram, Classmate, Navneet</td>\n",
       "      <td>Print</td>\n",
       "      <td>Files and Folders</td>\n",
       "      <td>NaN</td>\n",
       "    </tr>\n",
       "    <tr>\n",
       "      <th>2</th>\n",
       "      <td>2/22/2018 12:39:41</td>\n",
       "      <td>16-20</td>\n",
       "      <td>Kalyan</td>\n",
       "      <td>3</td>\n",
       "      <td>5</td>\n",
       "      <td>Sundaram, Classmate, Navneet, Camlin, Others</td>\n",
       "      <td>Color xerox, Print, Home delivery, Online serv...</td>\n",
       "      <td>NaN</td>\n",
       "      <td>NaN</td>\n",
       "    </tr>\n",
       "    <tr>\n",
       "      <th>3</th>\n",
       "      <td>2/22/2018 14:26:11</td>\n",
       "      <td>20-60</td>\n",
       "      <td>Kalyan</td>\n",
       "      <td>3</td>\n",
       "      <td>4</td>\n",
       "      <td>Sundaram, Classmate, Navneet</td>\n",
       "      <td>Print</td>\n",
       "      <td>NaN</td>\n",
       "      <td>NaN</td>\n",
       "    </tr>\n",
       "    <tr>\n",
       "      <th>4</th>\n",
       "      <td>2/22/2018 14:55:16</td>\n",
       "      <td>20-60</td>\n",
       "      <td>Kalyan</td>\n",
       "      <td>5</td>\n",
       "      <td>4</td>\n",
       "      <td>Sundaram, Classmate, Camlin</td>\n",
       "      <td>Color xerox, Print, Lamination and Binding</td>\n",
       "      <td>NaN</td>\n",
       "      <td>NaN</td>\n",
       "    </tr>\n",
       "  </tbody>\n",
       "</table>\n",
       "</div>"
      ],
      "text/plain": [
       "            Timestamp Age Group     Area  No .of stationery shops near by  \\\n",
       "0  2/22/2018 12:18:47     20-60    Thane                               10   \n",
       "1  2/22/2018 12:29:22     20-60  Chembur                               10   \n",
       "2  2/22/2018 12:39:41     16-20   Kalyan                                3   \n",
       "3  2/22/2018 14:26:11     20-60   Kalyan                                3   \n",
       "4  2/22/2018 14:55:16     20-60   Kalyan                                5   \n",
       "\n",
       "   How do you rate the stationery shops nearby?  \\\n",
       "0                                             4   \n",
       "1                                             4   \n",
       "2                                             5   \n",
       "3                                             4   \n",
       "4                                             4   \n",
       "\n",
       "                    Which brands do you prefer?  \\\n",
       "0          Sundaram, Classmate, Navneet, Camlin   \n",
       "1                  Sundaram, Classmate, Navneet   \n",
       "2  Sundaram, Classmate, Navneet, Camlin, Others   \n",
       "3                  Sundaram, Classmate, Navneet   \n",
       "4                   Sundaram, Classmate, Camlin   \n",
       "\n",
       "                       Which services do you prefer?  \\\n",
       "0                     Home delivery, Online services   \n",
       "1                                              Print   \n",
       "2  Color xerox, Print, Home delivery, Online serv...   \n",
       "3                                              Print   \n",
       "4         Color xerox, Print, Lamination and Binding   \n",
       "\n",
       "  Which of these items are not available in your locality? Unnamed: 8  \n",
       "0  Party decorations, College ceremonies, Greetin...              NaN  \n",
       "1                                  Files and Folders              NaN  \n",
       "2                                                NaN              NaN  \n",
       "3                                                NaN              NaN  \n",
       "4                                                NaN              NaN  "
      ]
     },
     "execution_count": 2,
     "metadata": {},
     "output_type": "execute_result"
    }
   ],
   "source": [
    "df_raw = pd.read_csv('survey-responses.csv', sep=',', header=0, encoding='ascii', engine='python')\n",
    "df_raw.head()"
   ]
  },
  {
   "cell_type": "code",
   "execution_count": 3,
   "metadata": {},
   "outputs": [
    {
     "data": {
      "text/html": [
       "<div>\n",
       "<style scoped>\n",
       "    .dataframe tbody tr th:only-of-type {\n",
       "        vertical-align: middle;\n",
       "    }\n",
       "\n",
       "    .dataframe tbody tr th {\n",
       "        vertical-align: top;\n",
       "    }\n",
       "\n",
       "    .dataframe thead th {\n",
       "        text-align: right;\n",
       "    }\n",
       "</style>\n",
       "<table border=\"1\" class=\"dataframe\">\n",
       "  <thead>\n",
       "    <tr style=\"text-align: right;\">\n",
       "      <th></th>\n",
       "      <th>Age Group</th>\n",
       "      <th>Area</th>\n",
       "      <th>No .of stationery shops near by</th>\n",
       "      <th>How do you rate the stationery shops nearby?</th>\n",
       "      <th>Which brands do you prefer?</th>\n",
       "      <th>Which services do you prefer?</th>\n",
       "      <th>Which of these items are not available in your locality?</th>\n",
       "    </tr>\n",
       "  </thead>\n",
       "  <tbody>\n",
       "    <tr>\n",
       "      <th>0</th>\n",
       "      <td>20-60</td>\n",
       "      <td>Thane</td>\n",
       "      <td>10</td>\n",
       "      <td>4</td>\n",
       "      <td>Sundaram, Classmate, Navneet, Camlin</td>\n",
       "      <td>Home delivery, Online services</td>\n",
       "      <td>Party decorations, College ceremonies, Greetin...</td>\n",
       "    </tr>\n",
       "    <tr>\n",
       "      <th>1</th>\n",
       "      <td>20-60</td>\n",
       "      <td>Chembur</td>\n",
       "      <td>10</td>\n",
       "      <td>4</td>\n",
       "      <td>Sundaram, Classmate, Navneet</td>\n",
       "      <td>Print</td>\n",
       "      <td>Files and Folders</td>\n",
       "    </tr>\n",
       "    <tr>\n",
       "      <th>2</th>\n",
       "      <td>16-20</td>\n",
       "      <td>Kalyan</td>\n",
       "      <td>3</td>\n",
       "      <td>5</td>\n",
       "      <td>Sundaram, Classmate, Navneet, Camlin, Others</td>\n",
       "      <td>Color xerox, Print, Home delivery, Online serv...</td>\n",
       "      <td>NaN</td>\n",
       "    </tr>\n",
       "    <tr>\n",
       "      <th>3</th>\n",
       "      <td>20-60</td>\n",
       "      <td>Kalyan</td>\n",
       "      <td>3</td>\n",
       "      <td>4</td>\n",
       "      <td>Sundaram, Classmate, Navneet</td>\n",
       "      <td>Print</td>\n",
       "      <td>NaN</td>\n",
       "    </tr>\n",
       "    <tr>\n",
       "      <th>4</th>\n",
       "      <td>20-60</td>\n",
       "      <td>Kalyan</td>\n",
       "      <td>5</td>\n",
       "      <td>4</td>\n",
       "      <td>Sundaram, Classmate, Camlin</td>\n",
       "      <td>Color xerox, Print, Lamination and Binding</td>\n",
       "      <td>NaN</td>\n",
       "    </tr>\n",
       "  </tbody>\n",
       "</table>\n",
       "</div>"
      ],
      "text/plain": [
       "  Age Group     Area  No .of stationery shops near by  \\\n",
       "0     20-60    Thane                               10   \n",
       "1     20-60  Chembur                               10   \n",
       "2     16-20   Kalyan                                3   \n",
       "3     20-60   Kalyan                                3   \n",
       "4     20-60   Kalyan                                5   \n",
       "\n",
       "   How do you rate the stationery shops nearby?  \\\n",
       "0                                             4   \n",
       "1                                             4   \n",
       "2                                             5   \n",
       "3                                             4   \n",
       "4                                             4   \n",
       "\n",
       "                    Which brands do you prefer?  \\\n",
       "0          Sundaram, Classmate, Navneet, Camlin   \n",
       "1                  Sundaram, Classmate, Navneet   \n",
       "2  Sundaram, Classmate, Navneet, Camlin, Others   \n",
       "3                  Sundaram, Classmate, Navneet   \n",
       "4                   Sundaram, Classmate, Camlin   \n",
       "\n",
       "                       Which services do you prefer?  \\\n",
       "0                     Home delivery, Online services   \n",
       "1                                              Print   \n",
       "2  Color xerox, Print, Home delivery, Online serv...   \n",
       "3                                              Print   \n",
       "4         Color xerox, Print, Lamination and Binding   \n",
       "\n",
       "  Which of these items are not available in your locality?  \n",
       "0  Party decorations, College ceremonies, Greetin...        \n",
       "1                                  Files and Folders        \n",
       "2                                                NaN        \n",
       "3                                                NaN        \n",
       "4                                                NaN        "
      ]
     },
     "execution_count": 3,
     "metadata": {},
     "output_type": "execute_result"
    }
   ],
   "source": [
    "df = df_raw.iloc[:,1:8]\n",
    "df.head()"
   ]
  },
  {
   "cell_type": "code",
   "execution_count": 4,
   "metadata": {},
   "outputs": [
    {
     "data": {
      "text/html": [
       "<div>\n",
       "<style scoped>\n",
       "    .dataframe tbody tr th:only-of-type {\n",
       "        vertical-align: middle;\n",
       "    }\n",
       "\n",
       "    .dataframe tbody tr th {\n",
       "        vertical-align: top;\n",
       "    }\n",
       "\n",
       "    .dataframe thead th {\n",
       "        text-align: right;\n",
       "    }\n",
       "</style>\n",
       "<table border=\"1\" class=\"dataframe\">\n",
       "  <thead>\n",
       "    <tr style=\"text-align: right;\">\n",
       "      <th></th>\n",
       "      <th>No .of stationery shops near by</th>\n",
       "      <th>How do you rate the stationery shops nearby?</th>\n",
       "    </tr>\n",
       "  </thead>\n",
       "  <tbody>\n",
       "    <tr>\n",
       "      <th>count</th>\n",
       "      <td>100.000000</td>\n",
       "      <td>100.000000</td>\n",
       "    </tr>\n",
       "    <tr>\n",
       "      <th>mean</th>\n",
       "      <td>4.000000</td>\n",
       "      <td>3.730000</td>\n",
       "    </tr>\n",
       "    <tr>\n",
       "      <th>std</th>\n",
       "      <td>2.835561</td>\n",
       "      <td>0.827006</td>\n",
       "    </tr>\n",
       "    <tr>\n",
       "      <th>min</th>\n",
       "      <td>0.000000</td>\n",
       "      <td>1.000000</td>\n",
       "    </tr>\n",
       "    <tr>\n",
       "      <th>25%</th>\n",
       "      <td>2.000000</td>\n",
       "      <td>3.000000</td>\n",
       "    </tr>\n",
       "    <tr>\n",
       "      <th>50%</th>\n",
       "      <td>4.000000</td>\n",
       "      <td>4.000000</td>\n",
       "    </tr>\n",
       "    <tr>\n",
       "      <th>75%</th>\n",
       "      <td>5.000000</td>\n",
       "      <td>4.000000</td>\n",
       "    </tr>\n",
       "    <tr>\n",
       "      <th>max</th>\n",
       "      <td>15.000000</td>\n",
       "      <td>5.000000</td>\n",
       "    </tr>\n",
       "  </tbody>\n",
       "</table>\n",
       "</div>"
      ],
      "text/plain": [
       "       No .of stationery shops near by  \\\n",
       "count                       100.000000   \n",
       "mean                          4.000000   \n",
       "std                           2.835561   \n",
       "min                           0.000000   \n",
       "25%                           2.000000   \n",
       "50%                           4.000000   \n",
       "75%                           5.000000   \n",
       "max                          15.000000   \n",
       "\n",
       "       How do you rate the stationery shops nearby?  \n",
       "count                                    100.000000  \n",
       "mean                                       3.730000  \n",
       "std                                        0.827006  \n",
       "min                                        1.000000  \n",
       "25%                                        3.000000  \n",
       "50%                                        4.000000  \n",
       "75%                                        4.000000  \n",
       "max                                        5.000000  "
      ]
     },
     "execution_count": 4,
     "metadata": {},
     "output_type": "execute_result"
    }
   ],
   "source": [
    "df.describe()"
   ]
  },
  {
   "cell_type": "code",
   "execution_count": 5,
   "metadata": {},
   "outputs": [
    {
     "data": {
      "text/html": [
       "<div>\n",
       "<style scoped>\n",
       "    .dataframe tbody tr th:only-of-type {\n",
       "        vertical-align: middle;\n",
       "    }\n",
       "\n",
       "    .dataframe tbody tr th {\n",
       "        vertical-align: top;\n",
       "    }\n",
       "\n",
       "    .dataframe thead th {\n",
       "        text-align: right;\n",
       "    }\n",
       "</style>\n",
       "<table border=\"1\" class=\"dataframe\">\n",
       "  <thead>\n",
       "    <tr style=\"text-align: right;\">\n",
       "      <th></th>\n",
       "      <th>Age Group</th>\n",
       "      <th>Area</th>\n",
       "      <th>No .of stationery shops near by</th>\n",
       "      <th>How do you rate the stationery shops nearby?</th>\n",
       "      <th>Which brands do you prefer?</th>\n",
       "      <th>Which services do you prefer?</th>\n",
       "      <th>Which of these items are not available in your locality?</th>\n",
       "    </tr>\n",
       "  </thead>\n",
       "  <tbody>\n",
       "    <tr>\n",
       "      <th>37</th>\n",
       "      <td>20-60</td>\n",
       "      <td>Kalyan</td>\n",
       "      <td>15</td>\n",
       "      <td>4</td>\n",
       "      <td>Sundaram, Classmate</td>\n",
       "      <td>Color xerox, Print, Lamination and Binding</td>\n",
       "      <td>Greeting cards</td>\n",
       "    </tr>\n",
       "    <tr>\n",
       "      <th>59</th>\n",
       "      <td>16-20</td>\n",
       "      <td>Kalyan</td>\n",
       "      <td>15</td>\n",
       "      <td>5</td>\n",
       "      <td>Sundaram, Classmate, Navneet, Camlin</td>\n",
       "      <td>Color xerox, Print, Lamination and Binding</td>\n",
       "      <td>Party decorations, College ceremony items, Gre...</td>\n",
       "    </tr>\n",
       "    <tr>\n",
       "      <th>70</th>\n",
       "      <td>20-60</td>\n",
       "      <td>Kalyan</td>\n",
       "      <td>15</td>\n",
       "      <td>4</td>\n",
       "      <td>Camlin</td>\n",
       "      <td>Print</td>\n",
       "      <td>Party decorations</td>\n",
       "    </tr>\n",
       "  </tbody>\n",
       "</table>\n",
       "</div>"
      ],
      "text/plain": [
       "   Age Group    Area  No .of stationery shops near by  \\\n",
       "37     20-60  Kalyan                               15   \n",
       "59     16-20  Kalyan                               15   \n",
       "70     20-60  Kalyan                               15   \n",
       "\n",
       "    How do you rate the stationery shops nearby?  \\\n",
       "37                                             4   \n",
       "59                                             5   \n",
       "70                                             4   \n",
       "\n",
       "             Which brands do you prefer?  \\\n",
       "37                   Sundaram, Classmate   \n",
       "59  Sundaram, Classmate, Navneet, Camlin   \n",
       "70                                Camlin   \n",
       "\n",
       "                 Which services do you prefer?  \\\n",
       "37  Color xerox, Print, Lamination and Binding   \n",
       "59  Color xerox, Print, Lamination and Binding   \n",
       "70                                       Print   \n",
       "\n",
       "   Which of these items are not available in your locality?  \n",
       "37                                     Greeting cards        \n",
       "59  Party decorations, College ceremony items, Gre...        \n",
       "70                                  Party decorations        "
      ]
     },
     "execution_count": 5,
     "metadata": {},
     "output_type": "execute_result"
    }
   ],
   "source": [
    "IQR = (5-2)\n",
    "df[df['No .of stationery shops near by'] > 5+2*IQR]"
   ]
  },
  {
   "cell_type": "code",
   "execution_count": 6,
   "metadata": {},
   "outputs": [
    {
     "data": {
      "text/plain": [
       "<matplotlib.axes._subplots.AxesSubplot at 0x7f7a7a6e1e48>"
      ]
     },
     "execution_count": 6,
     "metadata": {},
     "output_type": "execute_result"
    },
    {
     "data": {
      "image/png": "[encoded data removed]",
      "text/plain": [
       "<Figure size 432x432 with 1 Axes>"
      ]
     },
     "metadata": {},
     "output_type": "display_data"
    }
   ],
   "source": [
    "df['Age Group'].value_counts().plot.pie(figsize=(6,6), autopct='%.0f')"
   ]
  },
  {
   "cell_type": "code",
   "execution_count": 7,
   "metadata": {},
   "outputs": [
    {
     "data": {
      "text/plain": [
       "<matplotlib.axes._subplots.AxesSubplot at 0x7f7a720eeda0>"
      ]
     },
     "execution_count": 7,
     "metadata": {},
     "output_type": "execute_result"
    },
    {
     "data": {
      "image/png": "[encoded data removed]",
      "text/plain": [
       "<Figure size 432x432 with 1 Axes>"
      ]
     },
     "metadata": {},
     "output_type": "display_data"
    }
   ],
   "source": [
    "df['Area'].value_counts().plot.pie(figsize=(6,6), autopct='%.0f')"
   ]
  },
  {
   "cell_type": "code",
   "execution_count": 8,
   "metadata": {},
   "outputs": [
    {
     "data": {
      "text/plain": [
       "<matplotlib.axes._subplots.AxesSubplot at 0x7f7a720cf748>"
      ]
     },
     "execution_count": 8,
     "metadata": {},
     "output_type": "execute_result"
    },
    {
     "data": {
      "image/png": "[encoded data removed]",
      "text/plain": [
       "<Figure size 432x432 with 1 Axes>"
      ]
     },
     "metadata": {},
     "output_type": "display_data"
    }
   ],
   "source": [
    "df['How do you rate the stationery shops nearby?'].value_counts().plot.pie(figsize=(6,6), autopct='%.0f')"
   ]
  },
  {
   "cell_type": "code",
   "execution_count": 9,
   "metadata": {},
   "outputs": [
    {
     "data": {
      "text/html": [
       "<div>\n",
       "<style scoped>\n",
       "    .dataframe tbody tr th:only-of-type {\n",
       "        vertical-align: middle;\n",
       "    }\n",
       "\n",
       "    .dataframe tbody tr th {\n",
       "        vertical-align: top;\n",
       "    }\n",
       "\n",
       "    .dataframe thead th {\n",
       "        text-align: right;\n",
       "    }\n",
       "</style>\n",
       "<table border=\"1\" class=\"dataframe\">\n",
       "  <thead>\n",
       "    <tr style=\"text-align: right;\">\n",
       "      <th></th>\n",
       "      <th>Age Group</th>\n",
       "      <th>Area</th>\n",
       "      <th>No .of stationery shops near by</th>\n",
       "      <th>How do you rate the stationery shops nearby?</th>\n",
       "      <th>Which brands do you prefer?</th>\n",
       "      <th>Which services do you prefer?</th>\n",
       "      <th>Which of these items are not available in your locality?</th>\n",
       "    </tr>\n",
       "  </thead>\n",
       "  <tbody>\n",
       "    <tr>\n",
       "      <th>0</th>\n",
       "      <td>20-60</td>\n",
       "      <td>Thane</td>\n",
       "      <td>10</td>\n",
       "      <td>4</td>\n",
       "      <td>Sundaram, Classmate, Navneet, Camlin</td>\n",
       "      <td>Home delivery, Online services</td>\n",
       "      <td>Party decorations, College ceremonies, Greetin...</td>\n",
       "    </tr>\n",
       "    <tr>\n",
       "      <th>1</th>\n",
       "      <td>20-60</td>\n",
       "      <td>Chembur</td>\n",
       "      <td>10</td>\n",
       "      <td>4</td>\n",
       "      <td>Sundaram, Classmate, Navneet</td>\n",
       "      <td>Print</td>\n",
       "      <td>Files and Folders</td>\n",
       "    </tr>\n",
       "    <tr>\n",
       "      <th>2</th>\n",
       "      <td>16-20</td>\n",
       "      <td>Kalyan</td>\n",
       "      <td>3</td>\n",
       "      <td>5</td>\n",
       "      <td>Sundaram, Classmate, Navneet, Camlin, Others</td>\n",
       "      <td>Color xerox, Print, Home delivery, Online serv...</td>\n",
       "      <td>NaN</td>\n",
       "    </tr>\n",
       "    <tr>\n",
       "      <th>3</th>\n",
       "      <td>20-60</td>\n",
       "      <td>Kalyan</td>\n",
       "      <td>3</td>\n",
       "      <td>4</td>\n",
       "      <td>Sundaram, Classmate, Navneet</td>\n",
       "      <td>Print</td>\n",
       "      <td>NaN</td>\n",
       "    </tr>\n",
       "    <tr>\n",
       "      <th>4</th>\n",
       "      <td>20-60</td>\n",
       "      <td>Kalyan</td>\n",
       "      <td>5</td>\n",
       "      <td>4</td>\n",
       "      <td>Sundaram, Classmate, Camlin</td>\n",
       "      <td>Color xerox, Print, Lamination and Binding</td>\n",
       "      <td>NaN</td>\n",
       "    </tr>\n",
       "  </tbody>\n",
       "</table>\n",
       "</div>"
      ],
      "text/plain": [
       "  Age Group     Area  No .of stationery shops near by  \\\n",
       "0     20-60    Thane                               10   \n",
       "1     20-60  Chembur                               10   \n",
       "2     16-20   Kalyan                                3   \n",
       "3     20-60   Kalyan                                3   \n",
       "4     20-60   Kalyan                                5   \n",
       "\n",
       "   How do you rate the stationery shops nearby?  \\\n",
       "0                                             4   \n",
       "1                                             4   \n",
       "2                                             5   \n",
       "3                                             4   \n",
       "4                                             4   \n",
       "\n",
       "                    Which brands do you prefer?  \\\n",
       "0          Sundaram, Classmate, Navneet, Camlin   \n",
       "1                  Sundaram, Classmate, Navneet   \n",
       "2  Sundaram, Classmate, Navneet, Camlin, Others   \n",
       "3                  Sundaram, Classmate, Navneet   \n",
       "4                   Sundaram, Classmate, Camlin   \n",
       "\n",
       "                       Which services do you prefer?  \\\n",
       "0                     Home delivery, Online services   \n",
       "1                                              Print   \n",
       "2  Color xerox, Print, Home delivery, Online serv...   \n",
       "3                                              Print   \n",
       "4         Color xerox, Print, Lamination and Binding   \n",
       "\n",
       "  Which of these items are not available in your locality?  \n",
       "0  Party decorations, College ceremonies, Greetin...        \n",
       "1                                  Files and Folders        \n",
       "2                                                NaN        \n",
       "3                                                NaN        \n",
       "4                                                NaN        "
      ]
     },
     "execution_count": 9,
     "metadata": {},
     "output_type": "execute_result"
    }
   ],
   "source": [
    "df.head()"
   ]
  },
  {
   "cell_type": "code",
   "execution_count": 10,
   "metadata": {},
   "outputs": [
    {
     "data": {
      "text/html": [
       "<div>\n",
       "<style scoped>\n",
       "    .dataframe tbody tr th:only-of-type {\n",
       "        vertical-align: middle;\n",
       "    }\n",
       "\n",
       "    .dataframe tbody tr th {\n",
       "        vertical-align: top;\n",
       "    }\n",
       "\n",
       "    .dataframe thead th {\n",
       "        text-align: right;\n",
       "    }\n",
       "</style>\n",
       "<table border=\"1\" class=\"dataframe\">\n",
       "  <thead>\n",
       "    <tr style=\"text-align: right;\">\n",
       "      <th></th>\n",
       "      <th>No .of stationery shops near by</th>\n",
       "      <th>How do you rate the stationery shops nearby?</th>\n",
       "    </tr>\n",
       "    <tr>\n",
       "      <th>Area</th>\n",
       "      <th></th>\n",
       "      <th></th>\n",
       "    </tr>\n",
       "  </thead>\n",
       "  <tbody>\n",
       "    <tr>\n",
       "      <th>Chembur</th>\n",
       "      <td>3.583333</td>\n",
       "      <td>3.875000</td>\n",
       "    </tr>\n",
       "    <tr>\n",
       "      <th>Kalyan</th>\n",
       "      <td>4.600000</td>\n",
       "      <td>3.800000</td>\n",
       "    </tr>\n",
       "    <tr>\n",
       "      <th>Navi Mumbai</th>\n",
       "      <td>3.666667</td>\n",
       "      <td>4.000000</td>\n",
       "    </tr>\n",
       "    <tr>\n",
       "      <th>Thane</th>\n",
       "      <td>4.083333</td>\n",
       "      <td>3.666667</td>\n",
       "    </tr>\n",
       "    <tr>\n",
       "      <th>Western Suburbs</th>\n",
       "      <td>3.400000</td>\n",
       "      <td>3.000000</td>\n",
       "    </tr>\n",
       "  </tbody>\n",
       "</table>\n",
       "</div>"
      ],
      "text/plain": [
       "                 No .of stationery shops near by  \\\n",
       "Area                                               \n",
       "Chembur                                 3.583333   \n",
       "Kalyan                                  4.600000   \n",
       "Navi Mumbai                             3.666667   \n",
       "Thane                                   4.083333   \n",
       "Western Suburbs                         3.400000   \n",
       "\n",
       "                 How do you rate the stationery shops nearby?  \n",
       "Area                                                           \n",
       "Chembur                                              3.875000  \n",
       "Kalyan                                               3.800000  \n",
       "Navi Mumbai                                          4.000000  \n",
       "Thane                                                3.666667  \n",
       "Western Suburbs                                      3.000000  "
      ]
     },
     "execution_count": 10,
     "metadata": {},
     "output_type": "execute_result"
    }
   ],
   "source": [
    "df.groupby('Area').agg({'No .of stationery shops near by' : np.mean, 'How do you rate the stationery shops nearby?' : np.mean})"
   ]
  },
  {
   "cell_type": "code",
   "execution_count": 11,
   "metadata": {},
   "outputs": [
    {
     "data": {
      "text/html": [
       "<div>\n",
       "<style scoped>\n",
       "    .dataframe tbody tr th:only-of-type {\n",
       "        vertical-align: middle;\n",
       "    }\n",
       "\n",
       "    .dataframe tbody tr th {\n",
       "        vertical-align: top;\n",
       "    }\n",
       "\n",
       "    .dataframe thead th {\n",
       "        text-align: right;\n",
       "    }\n",
       "</style>\n",
       "<table border=\"1\" class=\"dataframe\">\n",
       "  <thead>\n",
       "    <tr style=\"text-align: right;\">\n",
       "      <th></th>\n",
       "      <th>Camlin</th>\n",
       "      <th>Classmate</th>\n",
       "      <th>Navneet</th>\n",
       "      <th>Others</th>\n",
       "      <th>Sundaram</th>\n",
       "    </tr>\n",
       "  </thead>\n",
       "  <tbody>\n",
       "    <tr>\n",
       "      <th>0</th>\n",
       "      <td>1</td>\n",
       "      <td>1</td>\n",
       "      <td>1</td>\n",
       "      <td>0</td>\n",
       "      <td>1</td>\n",
       "    </tr>\n",
       "    <tr>\n",
       "      <th>1</th>\n",
       "      <td>0</td>\n",
       "      <td>1</td>\n",
       "      <td>1</td>\n",
       "      <td>0</td>\n",
       "      <td>1</td>\n",
       "    </tr>\n",
       "    <tr>\n",
       "      <th>2</th>\n",
       "      <td>1</td>\n",
       "      <td>1</td>\n",
       "      <td>1</td>\n",
       "      <td>1</td>\n",
       "      <td>1</td>\n",
       "    </tr>\n",
       "    <tr>\n",
       "      <th>3</th>\n",
       "      <td>0</td>\n",
       "      <td>1</td>\n",
       "      <td>1</td>\n",
       "      <td>0</td>\n",
       "      <td>1</td>\n",
       "    </tr>\n",
       "    <tr>\n",
       "      <th>4</th>\n",
       "      <td>1</td>\n",
       "      <td>1</td>\n",
       "      <td>0</td>\n",
       "      <td>0</td>\n",
       "      <td>1</td>\n",
       "    </tr>\n",
       "  </tbody>\n",
       "</table>\n",
       "</div>"
      ],
      "text/plain": [
       "   Camlin  Classmate  Navneet  Others  Sundaram\n",
       "0       1          1        1       0         1\n",
       "1       0          1        1       0         1\n",
       "2       1          1        1       1         1\n",
       "3       0          1        1       0         1\n",
       "4       1          1        0       0         1"
      ]
     },
     "execution_count": 11,
     "metadata": {},
     "output_type": "execute_result"
    }
   ],
   "source": [
    "one_hot_brands = df['Which brands do you prefer?'].str.get_dummies(sep=', ')\n",
    "one_hot_brands.head()"
   ]
  },
  {
   "cell_type": "code",
   "execution_count": 12,
   "metadata": {},
   "outputs": [
    {
     "data": {
      "text/html": [
       "<div>\n",
       "<style scoped>\n",
       "    .dataframe tbody tr th:only-of-type {\n",
       "        vertical-align: middle;\n",
       "    }\n",
       "\n",
       "    .dataframe tbody tr th {\n",
       "        vertical-align: top;\n",
       "    }\n",
       "\n",
       "    .dataframe thead th {\n",
       "        text-align: right;\n",
       "    }\n",
       "</style>\n",
       "<table border=\"1\" class=\"dataframe\">\n",
       "  <thead>\n",
       "    <tr style=\"text-align: right;\">\n",
       "      <th></th>\n",
       "      <th>Camlin</th>\n",
       "      <th>Classmate</th>\n",
       "      <th>Navneet</th>\n",
       "      <th>Others</th>\n",
       "      <th>Sundaram</th>\n",
       "    </tr>\n",
       "  </thead>\n",
       "  <tbody>\n",
       "    <tr>\n",
       "      <th>0</th>\n",
       "      <td>True</td>\n",
       "      <td>True</td>\n",
       "      <td>True</td>\n",
       "      <td>False</td>\n",
       "      <td>True</td>\n",
       "    </tr>\n",
       "    <tr>\n",
       "      <th>1</th>\n",
       "      <td>False</td>\n",
       "      <td>True</td>\n",
       "      <td>True</td>\n",
       "      <td>False</td>\n",
       "      <td>True</td>\n",
       "    </tr>\n",
       "    <tr>\n",
       "      <th>2</th>\n",
       "      <td>True</td>\n",
       "      <td>True</td>\n",
       "      <td>True</td>\n",
       "      <td>True</td>\n",
       "      <td>True</td>\n",
       "    </tr>\n",
       "    <tr>\n",
       "      <th>3</th>\n",
       "      <td>False</td>\n",
       "      <td>True</td>\n",
       "      <td>True</td>\n",
       "      <td>False</td>\n",
       "      <td>True</td>\n",
       "    </tr>\n",
       "    <tr>\n",
       "      <th>4</th>\n",
       "      <td>True</td>\n",
       "      <td>True</td>\n",
       "      <td>False</td>\n",
       "      <td>False</td>\n",
       "      <td>True</td>\n",
       "    </tr>\n",
       "  </tbody>\n",
       "</table>\n",
       "</div>"
      ],
      "text/plain": [
       "   Camlin  Classmate  Navneet  Others  Sundaram\n",
       "0    True       True     True   False      True\n",
       "1   False       True     True   False      True\n",
       "2    True       True     True    True      True\n",
       "3   False       True     True   False      True\n",
       "4    True       True    False   False      True"
      ]
     },
     "execution_count": 12,
     "metadata": {},
     "output_type": "execute_result"
    }
   ],
   "source": [
    "one_hot_brands = one_hot_brands.astype('bool') \n",
    "one_hot_brands.head()"
   ]
  },
  {
   "cell_type": "code",
   "execution_count": 13,
   "metadata": {},
   "outputs": [
    {
     "data": {
      "text/html": [
       "<div>\n",
       "<style scoped>\n",
       "    .dataframe tbody tr th:only-of-type {\n",
       "        vertical-align: middle;\n",
       "    }\n",
       "\n",
       "    .dataframe tbody tr th {\n",
       "        vertical-align: top;\n",
       "    }\n",
       "\n",
       "    .dataframe thead th {\n",
       "        text-align: right;\n",
       "    }\n",
       "</style>\n",
       "<table border=\"1\" class=\"dataframe\">\n",
       "  <thead>\n",
       "    <tr style=\"text-align: right;\">\n",
       "      <th></th>\n",
       "      <th>support</th>\n",
       "      <th>itemsets</th>\n",
       "      <th>length</th>\n",
       "    </tr>\n",
       "  </thead>\n",
       "  <tbody>\n",
       "    <tr>\n",
       "      <th>0</th>\n",
       "      <td>0.33</td>\n",
       "      <td>[Camlin]</td>\n",
       "      <td>1</td>\n",
       "    </tr>\n",
       "    <tr>\n",
       "      <th>1</th>\n",
       "      <td>0.72</td>\n",
       "      <td>[Classmate]</td>\n",
       "      <td>1</td>\n",
       "    </tr>\n",
       "    <tr>\n",
       "      <th>2</th>\n",
       "      <td>0.49</td>\n",
       "      <td>[Navneet]</td>\n",
       "      <td>1</td>\n",
       "    </tr>\n",
       "    <tr>\n",
       "      <th>3</th>\n",
       "      <td>0.53</td>\n",
       "      <td>[Sundaram]</td>\n",
       "      <td>1</td>\n",
       "    </tr>\n",
       "    <tr>\n",
       "      <th>4</th>\n",
       "      <td>0.39</td>\n",
       "      <td>[Classmate, Navneet]</td>\n",
       "      <td>2</td>\n",
       "    </tr>\n",
       "    <tr>\n",
       "      <th>5</th>\n",
       "      <td>0.43</td>\n",
       "      <td>[Classmate, Sundaram]</td>\n",
       "      <td>2</td>\n",
       "    </tr>\n",
       "    <tr>\n",
       "      <th>6</th>\n",
       "      <td>0.30</td>\n",
       "      <td>[Navneet, Sundaram]</td>\n",
       "      <td>2</td>\n",
       "    </tr>\n",
       "  </tbody>\n",
       "</table>\n",
       "</div>"
      ],
      "text/plain": [
       "   support               itemsets  length\n",
       "0     0.33               [Camlin]       1\n",
       "1     0.72            [Classmate]       1\n",
       "2     0.49              [Navneet]       1\n",
       "3     0.53             [Sundaram]       1\n",
       "4     0.39   [Classmate, Navneet]       2\n",
       "5     0.43  [Classmate, Sundaram]       2\n",
       "6     0.30    [Navneet, Sundaram]       2"
      ]
     },
     "execution_count": 13,
     "metadata": {},
     "output_type": "execute_result"
    }
   ],
   "source": [
    "frequent_itemsets = apriori(one_hot_brands, min_support=0.3, use_colnames=True)\n",
    "frequent_itemsets['length'] = frequent_itemsets['itemsets'].apply(lambda x: len(x))\n",
    "frequent_itemsets"
   ]
  },
  {
   "cell_type": "code",
   "execution_count": 14,
   "metadata": {},
   "outputs": [
    {
     "data": {
      "text/html": [
       "<div>\n",
       "<style scoped>\n",
       "    .dataframe tbody tr th:only-of-type {\n",
       "        vertical-align: middle;\n",
       "    }\n",
       "\n",
       "    .dataframe tbody tr th {\n",
       "        vertical-align: top;\n",
       "    }\n",
       "\n",
       "    .dataframe thead th {\n",
       "        text-align: right;\n",
       "    }\n",
       "</style>\n",
       "<table border=\"1\" class=\"dataframe\">\n",
       "  <thead>\n",
       "    <tr style=\"text-align: right;\">\n",
       "      <th></th>\n",
       "      <th>support</th>\n",
       "      <th>itemsets</th>\n",
       "      <th>length</th>\n",
       "    </tr>\n",
       "  </thead>\n",
       "  <tbody>\n",
       "    <tr>\n",
       "      <th>4</th>\n",
       "      <td>0.39</td>\n",
       "      <td>[Classmate, Navneet]</td>\n",
       "      <td>2</td>\n",
       "    </tr>\n",
       "    <tr>\n",
       "      <th>5</th>\n",
       "      <td>0.43</td>\n",
       "      <td>[Classmate, Sundaram]</td>\n",
       "      <td>2</td>\n",
       "    </tr>\n",
       "    <tr>\n",
       "      <th>6</th>\n",
       "      <td>0.30</td>\n",
       "      <td>[Navneet, Sundaram]</td>\n",
       "      <td>2</td>\n",
       "    </tr>\n",
       "  </tbody>\n",
       "</table>\n",
       "</div>"
      ],
      "text/plain": [
       "   support               itemsets  length\n",
       "4     0.39   [Classmate, Navneet]       2\n",
       "5     0.43  [Classmate, Sundaram]       2\n",
       "6     0.30    [Navneet, Sundaram]       2"
      ]
     },
     "execution_count": 14,
     "metadata": {},
     "output_type": "execute_result"
    }
   ],
   "source": [
    "frequent_itemsets[ (frequent_itemsets['length'] >= 2)]"
   ]
  },
  {
   "cell_type": "code",
   "execution_count": 15,
   "metadata": {},
   "outputs": [
    {
     "data": {
      "text/plain": [
       "<matplotlib.axes._subplots.AxesSubplot at 0x7f7a72034a58>"
      ]
     },
     "execution_count": 15,
     "metadata": {},
     "output_type": "execute_result"
    },
    {
     "data": {
      "image/png": "[encoded data removed]",
      "text/plain": [
       "<Figure size 432x432 with 1 Axes>"
      ]
     },
     "metadata": {},
     "output_type": "display_data"
    }
   ],
   "source": [
    "df['Which brands do you prefer?'].str.get_dummies(sep=', ').sum().plot.pie(figsize=(6,6), autopct='%.0f')"
   ]
  },
  {
   "cell_type": "code",
   "execution_count": null,
   "metadata": {},
   "outputs": [],
   "source": []
  },
  {
   "cell_type": "code",
   "execution_count": 16,
   "metadata": {
    "slideshow": {
     "slide_type": "slide"
    }
   },
   "outputs": [
    {
     "data": {
      "text/plain": [
       "<matplotlib.axes._subplots.AxesSubplot at 0x7f7a720113c8>"
      ]
     },
     "execution_count": 16,
     "metadata": {},
     "output_type": "execute_result"
    },
    {
     "data": {
      "image/png": "[encoded data removed]",
      "text/plain": [
       "<Figure size 432x432 with 1 Axes>"
      ]
     },
     "metadata": {},
     "output_type": "display_data"
    }
   ],
   "source": [
    "df['Which services do you prefer?'].str.get_dummies(sep=', ').sum().plot.pie(figsize=(6,6), autopct='%.0f')"
   ]
  },
  {
   "cell_type": "code",
   "execution_count": 17,
   "metadata": {},
   "outputs": [
    {
     "data": {
      "text/plain": [
       "<matplotlib.axes._subplots.AxesSubplot at 0x7f7a71fd3ef0>"
      ]
     },
     "execution_count": 17,
     "metadata": {},
     "output_type": "execute_result"
    },
    {
     "data": {
      "image/png": "[encoded data removed]",
      "text/plain": [
       "<Figure size 432x432 with 1 Axes>"
      ]
     },
     "metadata": {},
     "output_type": "display_data"
    }
   ],
   "source": [
    "df['Which of these items are not available in your locality?'].str.get_dummies(sep=', ').sum().plot.pie(figsize=(6,6), autopct='%.0f')"
   ]
  },
  {
   "cell_type": "code",
   "execution_count": 18,
   "metadata": {},
   "outputs": [
    {
     "data": {
      "text/html": [
       "<div>\n",
       "<style scoped>\n",
       "    .dataframe tbody tr th:only-of-type {\n",
       "        vertical-align: middle;\n",
       "    }\n",
       "\n",
       "    .dataframe tbody tr th {\n",
       "        vertical-align: top;\n",
       "    }\n",
       "\n",
       "    .dataframe thead th {\n",
       "        text-align: right;\n",
       "    }\n",
       "</style>\n",
       "<table border=\"1\" class=\"dataframe\">\n",
       "  <thead>\n",
       "    <tr style=\"text-align: right;\">\n",
       "      <th></th>\n",
       "      <th>Age Group</th>\n",
       "      <th>Area</th>\n",
       "      <th>No .of stationery shops near by</th>\n",
       "      <th>How do you rate the stationery shops nearby?</th>\n",
       "      <th>Which brands do you prefer?</th>\n",
       "      <th>Which services do you prefer?</th>\n",
       "      <th>Which of these items are not available in your locality?</th>\n",
       "    </tr>\n",
       "  </thead>\n",
       "  <tbody>\n",
       "    <tr>\n",
       "      <th>1</th>\n",
       "      <td>20-60</td>\n",
       "      <td>Chembur</td>\n",
       "      <td>10</td>\n",
       "      <td>4</td>\n",
       "      <td>Sundaram, Classmate, Navneet</td>\n",
       "      <td>Print</td>\n",
       "      <td>Files and Folders</td>\n",
       "    </tr>\n",
       "    <tr>\n",
       "      <th>8</th>\n",
       "      <td>16-20</td>\n",
       "      <td>Chembur</td>\n",
       "      <td>3</td>\n",
       "      <td>4</td>\n",
       "      <td>Navneet</td>\n",
       "      <td>Online services</td>\n",
       "      <td>Party decorations</td>\n",
       "    </tr>\n",
       "    <tr>\n",
       "      <th>10</th>\n",
       "      <td>16-20</td>\n",
       "      <td>Chembur</td>\n",
       "      <td>5</td>\n",
       "      <td>3</td>\n",
       "      <td>Classmate</td>\n",
       "      <td>Color xerox, Print, Online services</td>\n",
       "      <td>College ceremonies</td>\n",
       "    </tr>\n",
       "    <tr>\n",
       "      <th>12</th>\n",
       "      <td>16-20</td>\n",
       "      <td>Chembur</td>\n",
       "      <td>2</td>\n",
       "      <td>5</td>\n",
       "      <td>Classmate</td>\n",
       "      <td>Color xerox, Lamination and Binding</td>\n",
       "      <td>Party decorations, College ceremonies</td>\n",
       "    </tr>\n",
       "    <tr>\n",
       "      <th>13</th>\n",
       "      <td>20-60</td>\n",
       "      <td>Chembur</td>\n",
       "      <td>2</td>\n",
       "      <td>5</td>\n",
       "      <td>Sundaram, Classmate</td>\n",
       "      <td>Color xerox, Print, Online services, Laminatio...</td>\n",
       "      <td>Greeting cards, Files and Folders</td>\n",
       "    </tr>\n",
       "  </tbody>\n",
       "</table>\n",
       "</div>"
      ],
      "text/plain": [
       "   Age Group     Area  No .of stationery shops near by  \\\n",
       "1      20-60  Chembur                               10   \n",
       "8      16-20  Chembur                                3   \n",
       "10     16-20  Chembur                                5   \n",
       "12     16-20  Chembur                                2   \n",
       "13     20-60  Chembur                                2   \n",
       "\n",
       "    How do you rate the stationery shops nearby?  \\\n",
       "1                                              4   \n",
       "8                                              4   \n",
       "10                                             3   \n",
       "12                                             5   \n",
       "13                                             5   \n",
       "\n",
       "     Which brands do you prefer?  \\\n",
       "1   Sundaram, Classmate, Navneet   \n",
       "8                        Navneet   \n",
       "10                     Classmate   \n",
       "12                     Classmate   \n",
       "13           Sundaram, Classmate   \n",
       "\n",
       "                        Which services do you prefer?  \\\n",
       "1                                               Print   \n",
       "8                                     Online services   \n",
       "10                Color xerox, Print, Online services   \n",
       "12                Color xerox, Lamination and Binding   \n",
       "13  Color xerox, Print, Online services, Laminatio...   \n",
       "\n",
       "   Which of these items are not available in your locality?  \n",
       "1                                   Files and Folders        \n",
       "8                                   Party decorations        \n",
       "10                                 College ceremonies        \n",
       "12              Party decorations, College ceremonies        \n",
       "13                  Greeting cards, Files and Folders        "
      ]
     },
     "execution_count": 18,
     "metadata": {},
     "output_type": "execute_result"
    }
   ],
   "source": [
    "df_chembur = df[df['Area'] == 'Chembur']\n",
    "df_chembur.head()"
   ]
  },
  {
   "cell_type": "code",
   "execution_count": 19,
   "metadata": {},
   "outputs": [
    {
     "data": {
      "text/plain": [
       "<matplotlib.axes._subplots.AxesSubplot at 0x7f7a71f28240>"
      ]
     },
     "execution_count": 19,
     "metadata": {},
     "output_type": "execute_result"
    },
    {
     "data": {
      "image/png": "[encoded data removed]",
      "text/plain": [
       "<Figure size 432x432 with 1 Axes>"
      ]
     },
     "metadata": {},
     "output_type": "display_data"
    }
   ],
   "source": [
    "df_chembur['Which brands do you prefer?'].str.get_dummies(sep=', ').sum().plot.pie(figsize=(6,6), autopct='%.0f')"
   ]
  },
  {
   "cell_type": "code",
   "execution_count": 20,
   "metadata": {},
   "outputs": [
    {
     "data": {
      "text/plain": [
       "<matplotlib.axes._subplots.AxesSubplot at 0x7f7a71ef0c18>"
      ]
     },
     "execution_count": 20,
     "metadata": {},
     "output_type": "execute_result"
    },
    {
     "data": {
      "image/png": "[encoded data removed]",
      "text/plain": [
       "<Figure size 432x432 with 1 Axes>"
      ]
     },
     "metadata": {},
     "output_type": "display_data"
    }
   ],
   "source": [
    "df_chembur['Which services do you prefer?'].str.get_dummies(sep=', ').sum().plot.pie(figsize=(6,6), autopct='%.0f')"
   ]
  },
  {
   "cell_type": "code",
   "execution_count": 21,
   "metadata": {},
   "outputs": [
    {
     "data": {
      "text/plain": [
       "<matplotlib.axes._subplots.AxesSubplot at 0x7f7a71ec36d8>"
      ]
     },
     "execution_count": 21,
     "metadata": {},
     "output_type": "execute_result"
    },
    {
     "data": {
      "image/png": "[encoded data removed]",
      "text/plain": [
       "<Figure size 432x432 with 1 Axes>"
      ]
     },
     "metadata": {},
     "output_type": "display_data"
    }
   ],
   "source": [
    "df_chembur['Which of these items are not available in your locality?'].str.get_dummies(sep=', ').sum().plot.pie(figsize=(6,6), autopct='%.0f')"
   ]
  },
  {
   "cell_type": "code",
   "execution_count": null,
   "metadata": {},
   "outputs": [],
   "source": []
  }
 ],
 "metadata": {
  "kernelspec": {
   "display_name": "Python 3",
   "language": "python",
   "name": "python3"
  },
  "language_info": {
   "codemirror_mode": {
    "name": "ipython",
    "version": 3
   },
   "file_extension": ".py",
   "mimetype": "text/x-python",
   "name": "python",
   "nbconvert_exporter": "python",
   "pygments_lexer": "ipython3",
   "version": "3.6.4"
  }
 },
 "nbformat": 4,
 "nbformat_minor": 2
}
